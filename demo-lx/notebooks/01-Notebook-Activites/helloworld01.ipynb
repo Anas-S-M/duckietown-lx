{
 "cells": [
  {
   "cell_type": "markdown",
   "metadata": {},
   "source": [
    "<p style=\"text-align: center\">\n",
    "<img src=\"../../assets/images/dtlogo.png\" alt=\"Duckietown\" width=\"50%\">\n",
    "</p>"
   ]
  },
  {
   "cell_type": "markdown",
   "metadata": {},
   "source": [
    "# Welcome to your first notebook activity!\n",
    "\n",
    "Learning experience notebooks provide you with interactive lessons and visualization to fully understand the topic of an LX.  They will also walk you through editing code and running the other LX activites, so be sure to progress through each notebook in sequential order.  Let's go through a quick example of how to progress through a notebook ..."
   ]
  },
  {
   "cell_type": "markdown",
   "metadata": {},
   "source": [
    "# Step 1: The setup\n",
    "\n",
    "Often, you will need to do some setup work. The following cell sets up autoreloading of code in external files and loads the packages we will need later in this notebook. Always start by running any setup cells that appear before the main instructions.  To execute the code in any cell:\n",
    "\n",
    "* Press the play icon on the left of the cell\n",
    "* OR click on the cell and use the shortcut `Shift` + `Enter`"
   ]
  },
  {
   "cell_type": "code",
   "execution_count": null,
   "metadata": {},
   "outputs": [],
   "source": [
    "%load_ext autoreload\n",
    "%autoreload 2\n",
    "\n",
    "import numpy as np\n",
    "import matplotlib.pyplot as plt\n",
    "\n",
    "import duckietown_code_utils as dcu\n",
    "\n",
    "%matplotlib inline\n",
    "%pylab inline"
   ]
  },
  {
   "cell_type": "markdown",
   "metadata": {},
   "source": [
    "---\n",
    "**🔑 Important:** The output of any code in a cell will appear below it as it runs.  This is also where you will see any error or warning messages.  Be sure to debug any errors before continuing with the notebook as cells may depend on any of the previous code.\n",
    "\n",
    "---"
   ]
  },
  {
   "cell_type": "markdown",
   "metadata": {},
   "source": [
    "# Step 2: The activity\n",
    "\n",
    "After completing this activity, you will be able to load an image into a notebook, explore the attributes of the image, and then display it. This is something you might do in learning experiences related to developing knowledge about image pipelines like the one that drives the Duckiebot navigation demos.\n",
    "\n",
    "### Loading and Viewing an Image"
   ]
  },
  {
   "cell_type": "markdown",
   "metadata": {},
   "source": [
    "Let's load an image of a Duckiebot travelling through the city. The following code converts a JPEG image's bytes to a Numpy `nd.ndarray`."
   ]
  },
  {
   "cell_type": "code",
   "execution_count": null,
   "metadata": {
    "scrolled": true
   },
   "outputs": [],
   "source": [
    "# Feel free to add your own images to the assets folder and experiement\n",
    "image_file_path = '../../assets/images/duckiebot.jpg'\n",
    "duckiebot_image = dcu.rgb_from_jpg_fn(image_file_path)\n",
    "print(\"Image loaded!\")"
   ]
  },
  {
   "cell_type": "markdown",
   "metadata": {},
   "source": [
    "Run the following code to see the image shape using the attribute \"shape\":\n"
   ]
  },
  {
   "cell_type": "code",
   "execution_count": null,
   "metadata": {},
   "outputs": [],
   "source": [
    "duckiebot_image.shape"
   ]
  },
  {
   "cell_type": "markdown",
   "metadata": {},
   "source": [
    "The shape is given to us as `(height, width, depth)`. Here we have an image of height 480 pixels and width 640 pixels. The depth represents the 3 color channels `(R, G, B)` for each pixel."
   ]
  },
  {
   "cell_type": "markdown",
   "metadata": {},
   "source": [
    "Now we'll use `imshow()` to display the image."
   ]
  },
  {
   "cell_type": "code",
   "execution_count": null,
   "metadata": {},
   "outputs": [],
   "source": [
    "plt.imshow(duckiebot_image);"
   ]
  },
  {
   "cell_type": "markdown",
   "metadata": {},
   "source": [
    "----\n",
    "\n",
    "Congratulations! You've completed your first notebook activiy! 🏆\n",
    "\n",
    "Most learning experiences will contain a series of notebooks. You can follow the link at the bottom of each page jump to the [next notebook](../02-Code-Activities/helloworld02.ipynb).\n"
   ]
  }
 ],
 "metadata": {
  "celltoolbar": "Tags",
  "kernelspec": {
   "display_name": "Python 3.8.10 64-bit",
   "language": "python",
   "name": "python3"
  },
  "language_info": {
   "codemirror_mode": {
    "name": "ipython",
    "version": 3
   },
   "file_extension": ".py",
   "mimetype": "text/x-python",
   "name": "python",
   "nbconvert_exporter": "python",
   "pygments_lexer": "ipython3",
   "version": "3.8.10"
  },
  "vscode": {
   "interpreter": {
    "hash": "916dbcbb3f70747c44a77c7bcd40155683ae19c65e1c03b4aa3499c5328201f1"
   }
  }
 },
 "nbformat": 4,
 "nbformat_minor": 4
}
