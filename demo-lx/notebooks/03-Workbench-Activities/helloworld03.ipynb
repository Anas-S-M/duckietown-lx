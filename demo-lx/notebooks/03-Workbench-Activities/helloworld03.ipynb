{
 "cells": [
  {
   "cell_type": "markdown",
   "metadata": {},
   "source": [
    "<p style=\"text-align: center\">\n",
    "<img src=\"../../assets/images/dtlogo.png\" alt=\"Duckietown\" width=\"50%\">\n",
    "</p>"
   ]
  },
  {
   "cell_type": "markdown",
   "metadata": {},
   "source": [
    "# Using the workbench\n",
    "\n",
    "The `dts code workbench` command is your key to launching all of the learning experience activites not contained within a notebook. There are two more activites for this LX that you will activate with the `code workbench` command:\n",
    "\n",
    "* Driving a Duckiebot in simulation\n",
    "* Driving a physical Duckiebot in the real world\n",
    "\n",
    "So let's get started ..."
   ]
  },
  {
   "cell_type": "markdown",
   "metadata": {},
   "source": [
    "# Step 1: Exploring the VNC experience interface\n",
    "\n",
    "Workbench activites are controlled using a VNC interface that you can access using the workbanch. Try running the following command in the same directory that you ran `dts code editor` to activate this editor interface (`/duckietown-lx/hello-world-lx`)\n",
    "\n",
    "    dts code workbench --sim\n",
    "\n",
    "In the terminal output you will see the following lines (you may have to scroll up in the terminal)\n",
    "\n",
    "```\n",
    "VNC running at http://localhost:8087/\n",
    "--------------------------------------------------------\n",
    "```\n",
    "\n",
    "Following the link will bring up the VNC Desktop, which should look like this\n",
    "\n",
    "![Image of the VNC Desktop Interface](../../assets/images/vnc.png)\n",
    "\n",
    "The Desktop icons will provide all the shortcuts you need to start each LX workbench activity.\n",
    "\n",
    "In this learning experience, we will run only the basic joystick interface to confirm that the commands work for you, but the VNC interface is a powerful tool. In future activities, you will use it to run calibration tools and visualizations as well as to start demo agents in simulation and on Duckiebots.\n"
   ]
  },
  {
   "cell_type": "markdown",
   "metadata": {},
   "source": [
    "# Step 2: Driving in the simulator\n",
    "\n",
    "To complete your first simulator activity, run\n",
    "\n",
    "    dts code workbench --sim\n",
    "\n",
    "Open the VNC link and double-click on the Duckietown Logo Desktop Icon.\n",
    "\n",
    "This will pull up the joystick interface, camera stream, and simulator interface. Practice driving around and be sure not to crash into any trees!\n",
    "\n",
    "![Image of the Simulator Interface](../../assets/images/vnc-sim.png)"
   ]
  },
  {
   "cell_type": "markdown",
   "metadata": {},
   "source": [
    "# Step 3: Driving your Duckiebot from the VNC interface\n",
    "\n",
    "You can also control your Duckiebot with the joystick or agent code from the VNC interface. In this robot activity, you will bring up the joystick interface and camera stream to drive the Duckiebot from the VNC Desktop.\n",
    "\n",
    "To complete your first simulator activity, run\n",
    "\n",
    "    dts code workbench -b <YOUR_ROBOT_NAME>\n",
    "\n",
    "Open the VNC link and double-click on the Duckietown Logo Desktop Icon.\n",
    "\n",
    "This will pull up the joystick interface, camera stream, and simulator interface to drive your real-world Duckiebot from the learning experience activity.\n",
    "\n",
    "![Image of the Robot Interface](../../assets/images/vnc-robot.png)"
   ]
  },
  {
   "cell_type": "markdown",
   "metadata": {},
   "source": [
    "---\n",
    "\n",
    "You've now officially completed the **hello-world** learning experience! 🏆 You can jump back to the Learning Experience Developer Manual for [more information about Next Steps](https://staging-docs.duckietown.com/daffy-staging/devmanual-lx/consume/3_next/index.html) and a directory of Duckietown Learning Experiences to start expanding your knowledge of robotic systems, building behaviors for your Duckiebot, and more."
   ]
  }
 ],
 "metadata": {
  "kernelspec": {
   "display_name": "Python 3.8.10 64-bit",
   "language": "python",
   "name": "python3"
  },
  "language_info": {
   "name": "python",
   "version": "3.8.10"
  },
  "orig_nbformat": 4,
  "vscode": {
   "interpreter": {
    "hash": "916dbcbb3f70747c44a77c7bcd40155683ae19c65e1c03b4aa3499c5328201f1"
   }
  }
 },
 "nbformat": 4,
 "nbformat_minor": 2
}
