{
 "cells": [
  {
   "cell_type": "markdown",
   "metadata": {},
   "source": [
    "Solution Exercise 1: Reachability"
   ]
  },
  {
   "cell_type": "code",
   "execution_count": null,
   "metadata": {},
   "outputs": [],
   "source": [
    "AB = A @ B\n",
    "R = np.concatenate((B, AB), axis=1)\n",
    "r = np.linalg.matrix_rank(R)\n",
    "\n",
    "if r < 2:\n",
    "  print(f'The system is not reachable because the rank of R is: {r}.')\n",
    "else:\n",
    "  print(f'The system is reachable because rank of R is: {r}.')"
   ]
  },
  {
   "cell_type": "markdown",
   "metadata": {},
   "source": [
    "Solution Exercise 2: Ackermann's Formula"
   ]
  },
  {
   "cell_type": "code",
   "execution_count": null,
   "metadata": {},
   "outputs": [],
   "source": [
    "def acker_solution(A: np.array, B: np.array, poles: List[float]) -> np.array:\n",
    "    AB = A @ B\n",
    "    R = np.concatenate((B, AB), axis=1)\n",
    "    R_inv = np.linalg.inv(R)\n",
    "    gamma = np.array([[0, 1]]) @ R_inv\n",
    "    \n",
    "    p_1 = poles[0]*(-1)\n",
    "    p_2 = poles[1]*(-1)\n",
    "    ab = p_1 + p_2\n",
    "    b = p_1*p_2\n",
    "    p_cl = A @ A + ab*A + b*np.identity(2)\n",
    "    \n",
    "    K = gamma @ p_cl\n",
    "\n",
    "    return K"
   ]
  },
  {
   "cell_type": "markdown",
   "metadata": {},
   "source": [
    "Solution Exercise 3: Feedforward Gain"
   ]
  },
  {
   "cell_type": "code",
   "execution_count": null,
   "metadata": {},
   "outputs": [],
   "source": [
    "def feedforward_kr_solution(A: np.array, B: np.array, C: np.array, K: np.array) -> np.array:\n",
    "    ABK = A - B @ K\n",
    "    ABK_inv = np.linalg.inv(ABK)\n",
    "    den = C @ ABK_inv @ B\n",
    "    kr = - 1/den\n",
    "\n",
    "    return kr"
   ]
  }
 ],
 "metadata": {
  "kernelspec": {
   "display_name": "Python 3.8.10 64-bit",
   "language": "python",
   "name": "python3"
  },
  "language_info": {
   "name": "python",
   "version": "3.8.10"
  },
  "orig_nbformat": 4,
  "vscode": {
   "interpreter": {
    "hash": "916dbcbb3f70747c44a77c7bcd40155683ae19c65e1c03b4aa3499c5328201f1"
   }
  }
 },
 "nbformat": 4,
 "nbformat_minor": 2
}
