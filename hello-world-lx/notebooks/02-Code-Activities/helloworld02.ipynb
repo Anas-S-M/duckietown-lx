{
 "cells": [
  {
   "cell_type": "markdown",
   "metadata": {},
   "source": [
    "<p style=\"text-align: center\">\n",
    "<img src=\"../../assets/images/dtlogo.png\" alt=\"Duckietown\" width=\"50%\">\n",
    "</p>"
   ]
  },
  {
   "cell_type": "markdown",
   "id": "3946303b",
   "metadata": {},
   "source": [
    "# Editing code outside of notebooks"
   ]
  },
  {
   "cell_type": "markdown",
   "id": "4064c443",
   "metadata": {},
   "source": [
    "Many learning experiences will guide you through editing code that will run in the simulator or on your Duckiebot, rather than in the notebook itself.  That code will always live in the `packages/solution` directory of the learning experience.\n",
    "\n",
    "Let's say that we want to add a filter over the Duckiebot image stream. The first requirement is to write a function that will add the filter to a given image. We can write and test that function using the notebook as a guide.\n",
    "\n",
    "# Step 1: Load an image"
   ]
  },
  {
   "cell_type": "code",
   "execution_count": null,
   "id": "0bdb12f0",
   "metadata": {},
   "outputs": [],
   "source": [
    "%load_ext autoreload\n",
    "%autoreload 2\n",
    "\n",
    "import numpy as np\n",
    "import matplotlib.pyplot as plt\n",
    "import cv2\n",
    "\n",
    "import duckietown_code_utils as dcu\n",
    "\n",
    "%matplotlib inline\n",
    "%pylab inline"
   ]
  },
  {
   "cell_type": "markdown",
   "id": "9ff3a7e4",
   "metadata": {},
   "source": [
    "Let's start by loading a test image to work with as we did in the last activity. This is an example frame from a Duckiebot's image stream as it passes through an intersection."
   ]
  },
  {
   "cell_type": "code",
   "execution_count": null,
   "id": "b31d1828",
   "metadata": {},
   "outputs": [],
   "source": [
    "image_file_path = '../../assets/images/onboard.png'\n",
    "onboard_image = dcu.rgb_from_jpg_fn(image_file_path)\n",
    "plt.imshow(onboard_image)"
   ]
  },
  {
   "cell_type": "markdown",
   "id": "ba47bf30",
   "metadata": {},
   "source": [
    "# Step 2: Implement the image filter\n"
   ]
  },
  {
   "cell_type": "markdown",
   "id": "5b577658",
   "metadata": {},
   "source": [
    "Now we'll use an image filter to highlight the location of yellow lane lines in the image. In the `packages/solution` directory, you'll find a file names `image_filter.py`.  Your task is to uncomment the `return` line of the `highlight_centerline` function so that we can call the function to get an updated image."
   ]
  },
  {
   "cell_type": "markdown",
   "id": "2531e7ea",
   "metadata": {},
   "source": [
    "# Step 3: Test the function with visualization"
   ]
  },
  {
   "cell_type": "markdown",
   "metadata": {
    "collapsed": false
   },
   "source": [
    "Let's pass our test image through the newly working filter function and visualize the result.\n"
   ]
  },
  {
   "cell_type": "code",
   "execution_count": null,
   "id": "d4786d44",
   "metadata": {},
   "outputs": [],
   "source": [
    "from solution.image_filter import highlight_centerline\n",
    "\n",
    "# This function comes from the packages/solution/image_filter.py file\n",
    "highlighted_image = highlight_centerline(onboard_image)\n",
    "\n",
    "# Show our image with the filter applied\n",
    "plt.imshow(highlighted_image)"
   ]
  },
  {
   "cell_type": "markdown",
   "id": "9acc9556",
   "metadata": {},
   "source": [
    "You an see that we've successfully highlighted the yellow lane line in the image, but we have also highlighted the yellow duckies!  Feel free to try tuning the hsv values in `image_filter.py` to make your centerline highlights more accurate."
   ]
  },
  {
   "cell_type": "markdown",
   "id": "501f790d",
   "metadata": {},
   "source": [
    "# Step 4: Run a unit test\n",
    "\n"
   ]
  },
  {
   "cell_type": "markdown",
   "id": "b81454cc",
   "metadata": {},
   "source": [
    "This VSCode editor also provides a convenient interface to run the unit tests that are provided in the `tests` directory of learning experiences to test the functionality of your code.\n",
    "\n",
    "Select the beaker icon on the left side of the editor interface to open the following panel\n",
    "\n",
    "![image info](../../assets/images/test-interface.png)\n",
    "\n",
    "The play button will run each unit test. In this case, the `image_filter` test should pass if you have uncommented the return statement in `image_filter.py`. Try commenting the line out and running the tests again to see the fail state."
   ]
  },
  {
   "cell_type": "markdown",
   "id": "4cf5e3cd",
   "metadata": {},
   "source": [
    "---\n",
    "\n",
    "And that's everything you need to know about LX notebooks! Continue on to the next notebook to learn about other learning experience activities. You'll jump right into working with the siumulator and your Duckiebot 🚙\n"
   ]
  }
 ],
 "metadata": {
  "kernelspec": {
   "display_name": "Python 3.8.10 64-bit",
   "language": "python",
   "name": "python3"
  },
  "language_info": {
   "codemirror_mode": {
    "name": "ipython",
    "version": 3
   },
   "file_extension": ".py",
   "mimetype": "text/x-python",
   "name": "python",
   "nbconvert_exporter": "python",
   "pygments_lexer": "ipython3",
   "version": "3.8.10"
  },
  "vscode": {
   "interpreter": {
    "hash": "916dbcbb3f70747c44a77c7bcd40155683ae19c65e1c03b4aa3499c5328201f1"
   }
  }
 },
 "nbformat": 4,
 "nbformat_minor": 5
}
